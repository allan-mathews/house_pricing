{
 "cells": [
  {
   "cell_type": "markdown",
   "metadata": {},
   "source": [
    "# Solving the California Housing Prices Prediction problem using:\n",
    "## 1. Linear Regression\n",
    "## 2. Lasso Regression\n",
    "## 3. Ridge Regression\n",
    "## 4. ElasticNet Regression\n",
    "## 5. Support Vector Regressor (SVR)\n",
    "## 6. Nearest Nieghbors regression\n",
    "## 7. Decision trees\n",
    "## 8. SGD Regressor\n",
    "## 9. Neural Network\n"
   ]
  },
  {
   "cell_type": "code",
   "execution_count": 1,
   "metadata": {
    "_cell_guid": "b1076dfc-b9ad-4769-8c92-a6c4dae69d19",
    "_uuid": "8f2839f25d086af736a60e9eeb907d3b93b6e0e5"
   },
   "outputs": [],
   "source": [
    "import sklearn\n",
    "from sklearn.linear_model import LinearRegression\n",
    "from sklearn.linear_model import Lasso\n",
    "from sklearn.linear_model import Ridge\n",
    "from sklearn.linear_model import ElasticNet\n",
    "from sklearn.svm import SVR\n",
    "from sklearn.neighbors import KNeighborsRegressor\n",
    "from sklearn.linear_model import SGDRegressor\n",
    "from sklearn.tree import DecisionTreeRegressor\n",
    "from sklearn.neural_network import MLPRegressor\n",
    "\n",
    "import numpy as np\n",
    "import scipy as sp\n",
    "import pandas as pd\n",
    "import matplotlib.pyplot as plt\n",
    "import seaborn as sns\n",
    "from sklearn.model_selection import train_test_split\n",
    "from sklearn import preprocessing\n",
    "from sklearn.preprocessing import StandardScaler\n",
    "from sklearn.metrics import r2_score"
   ]
  },
  {
   "cell_type": "markdown",
   "metadata": {
    "_cell_guid": "79c7e3d0-c299-4dcb-8224-4455121ee9b0",
    "_uuid": "d629ff2d2480ee46fbb7e2d37f6b5fab8052498a",
    "collapsed": true
   },
   "source": [
    "## Reading the dataset (California Housing Prices)"
   ]
  },
  {
   "cell_type": "code",
   "execution_count": 2,
   "metadata": {},
   "outputs": [],
   "source": [
    "housing_dataset = pd.read_csv('../input/california-housing-prices/housing.csv')"
   ]
  },
  {
   "cell_type": "code",
   "execution_count": 3,
   "metadata": {},
   "outputs": [
    {
     "data": {
      "text/html": [
       "<div>\n",
       "<style scoped>\n",
       "    .dataframe tbody tr th:only-of-type {\n",
       "        vertical-align: middle;\n",
       "    }\n",
       "\n",
       "    .dataframe tbody tr th {\n",
       "        vertical-align: top;\n",
       "    }\n",
       "\n",
       "    .dataframe thead th {\n",
       "        text-align: right;\n",
       "    }\n",
       "</style>\n",
       "<table border=\"1\" class=\"dataframe\">\n",
       "  <thead>\n",
       "    <tr style=\"text-align: right;\">\n",
       "      <th></th>\n",
       "      <th>longitude</th>\n",
       "      <th>latitude</th>\n",
       "      <th>housing_median_age</th>\n",
       "      <th>total_rooms</th>\n",
       "      <th>total_bedrooms</th>\n",
       "      <th>population</th>\n",
       "      <th>households</th>\n",
       "      <th>median_income</th>\n",
       "      <th>median_house_value</th>\n",
       "      <th>ocean_proximity</th>\n",
       "    </tr>\n",
       "  </thead>\n",
       "  <tbody>\n",
       "    <tr>\n",
       "      <th>0</th>\n",
       "      <td>-122.23</td>\n",
       "      <td>37.88</td>\n",
       "      <td>41.0</td>\n",
       "      <td>880.0</td>\n",
       "      <td>129.0</td>\n",
       "      <td>322.0</td>\n",
       "      <td>126.0</td>\n",
       "      <td>8.3252</td>\n",
       "      <td>452600.0</td>\n",
       "      <td>NEAR BAY</td>\n",
       "    </tr>\n",
       "    <tr>\n",
       "      <th>1</th>\n",
       "      <td>-122.22</td>\n",
       "      <td>37.86</td>\n",
       "      <td>21.0</td>\n",
       "      <td>7099.0</td>\n",
       "      <td>1106.0</td>\n",
       "      <td>2401.0</td>\n",
       "      <td>1138.0</td>\n",
       "      <td>8.3014</td>\n",
       "      <td>358500.0</td>\n",
       "      <td>NEAR BAY</td>\n",
       "    </tr>\n",
       "    <tr>\n",
       "      <th>2</th>\n",
       "      <td>-122.24</td>\n",
       "      <td>37.85</td>\n",
       "      <td>52.0</td>\n",
       "      <td>1467.0</td>\n",
       "      <td>190.0</td>\n",
       "      <td>496.0</td>\n",
       "      <td>177.0</td>\n",
       "      <td>7.2574</td>\n",
       "      <td>352100.0</td>\n",
       "      <td>NEAR BAY</td>\n",
       "    </tr>\n",
       "    <tr>\n",
       "      <th>3</th>\n",
       "      <td>-122.25</td>\n",
       "      <td>37.85</td>\n",
       "      <td>52.0</td>\n",
       "      <td>1274.0</td>\n",
       "      <td>235.0</td>\n",
       "      <td>558.0</td>\n",
       "      <td>219.0</td>\n",
       "      <td>5.6431</td>\n",
       "      <td>341300.0</td>\n",
       "      <td>NEAR BAY</td>\n",
       "    </tr>\n",
       "    <tr>\n",
       "      <th>4</th>\n",
       "      <td>-122.25</td>\n",
       "      <td>37.85</td>\n",
       "      <td>52.0</td>\n",
       "      <td>1627.0</td>\n",
       "      <td>280.0</td>\n",
       "      <td>565.0</td>\n",
       "      <td>259.0</td>\n",
       "      <td>3.8462</td>\n",
       "      <td>342200.0</td>\n",
       "      <td>NEAR BAY</td>\n",
       "    </tr>\n",
       "  </tbody>\n",
       "</table>\n",
       "</div>"
      ],
      "text/plain": [
       "   longitude  latitude  housing_median_age  total_rooms  total_bedrooms  \\\n",
       "0    -122.23     37.88                41.0        880.0           129.0   \n",
       "1    -122.22     37.86                21.0       7099.0          1106.0   \n",
       "2    -122.24     37.85                52.0       1467.0           190.0   \n",
       "3    -122.25     37.85                52.0       1274.0           235.0   \n",
       "4    -122.25     37.85                52.0       1627.0           280.0   \n",
       "\n",
       "   population  households  median_income  median_house_value ocean_proximity  \n",
       "0       322.0       126.0         8.3252            452600.0        NEAR BAY  \n",
       "1      2401.0      1138.0         8.3014            358500.0        NEAR BAY  \n",
       "2       496.0       177.0         7.2574            352100.0        NEAR BAY  \n",
       "3       558.0       219.0         5.6431            341300.0        NEAR BAY  \n",
       "4       565.0       259.0         3.8462            342200.0        NEAR BAY  "
      ]
     },
     "execution_count": 3,
     "metadata": {},
     "output_type": "execute_result"
    }
   ],
   "source": [
    "# Showing the first 5 columns \n",
    "housing_dataset.head()"
   ]
  },
  {
   "cell_type": "code",
   "execution_count": 4,
   "metadata": {},
   "outputs": [
    {
     "data": {
      "text/html": [
       "<div>\n",
       "<style scoped>\n",
       "    .dataframe tbody tr th:only-of-type {\n",
       "        vertical-align: middle;\n",
       "    }\n",
       "\n",
       "    .dataframe tbody tr th {\n",
       "        vertical-align: top;\n",
       "    }\n",
       "\n",
       "    .dataframe thead th {\n",
       "        text-align: right;\n",
       "    }\n",
       "</style>\n",
       "<table border=\"1\" class=\"dataframe\">\n",
       "  <thead>\n",
       "    <tr style=\"text-align: right;\">\n",
       "      <th></th>\n",
       "      <th>longitude</th>\n",
       "      <th>latitude</th>\n",
       "      <th>housing_median_age</th>\n",
       "      <th>total_rooms</th>\n",
       "      <th>total_bedrooms</th>\n",
       "      <th>population</th>\n",
       "      <th>households</th>\n",
       "      <th>median_income</th>\n",
       "      <th>median_house_value</th>\n",
       "      <th>ocean_proximity</th>\n",
       "    </tr>\n",
       "  </thead>\n",
       "  <tbody>\n",
       "    <tr>\n",
       "      <th>2168</th>\n",
       "      <td>-119.87</td>\n",
       "      <td>36.79</td>\n",
       "      <td>8.0</td>\n",
       "      <td>2875.0</td>\n",
       "      <td>548.0</td>\n",
       "      <td>1718.0</td>\n",
       "      <td>551.0</td>\n",
       "      <td>3.6522</td>\n",
       "      <td>80200.0</td>\n",
       "      <td>INLAND</td>\n",
       "    </tr>\n",
       "    <tr>\n",
       "      <th>1582</th>\n",
       "      <td>-122.00</td>\n",
       "      <td>37.86</td>\n",
       "      <td>18.0</td>\n",
       "      <td>8953.0</td>\n",
       "      <td>1074.0</td>\n",
       "      <td>3011.0</td>\n",
       "      <td>993.0</td>\n",
       "      <td>10.7372</td>\n",
       "      <td>500001.0</td>\n",
       "      <td>&lt;1H OCEAN</td>\n",
       "    </tr>\n",
       "    <tr>\n",
       "      <th>12520</th>\n",
       "      <td>-121.47</td>\n",
       "      <td>38.55</td>\n",
       "      <td>48.0</td>\n",
       "      <td>1091.0</td>\n",
       "      <td>403.0</td>\n",
       "      <td>926.0</td>\n",
       "      <td>336.0</td>\n",
       "      <td>1.1458</td>\n",
       "      <td>65400.0</td>\n",
       "      <td>INLAND</td>\n",
       "    </tr>\n",
       "    <tr>\n",
       "      <th>15147</th>\n",
       "      <td>-116.94</td>\n",
       "      <td>32.87</td>\n",
       "      <td>24.0</td>\n",
       "      <td>2824.0</td>\n",
       "      <td>441.0</td>\n",
       "      <td>1480.0</td>\n",
       "      <td>471.0</td>\n",
       "      <td>5.2614</td>\n",
       "      <td>177200.0</td>\n",
       "      <td>&lt;1H OCEAN</td>\n",
       "    </tr>\n",
       "    <tr>\n",
       "      <th>1287</th>\n",
       "      <td>-121.84</td>\n",
       "      <td>38.02</td>\n",
       "      <td>46.0</td>\n",
       "      <td>66.0</td>\n",
       "      <td>22.0</td>\n",
       "      <td>37.0</td>\n",
       "      <td>21.0</td>\n",
       "      <td>0.5360</td>\n",
       "      <td>87500.0</td>\n",
       "      <td>INLAND</td>\n",
       "    </tr>\n",
       "  </tbody>\n",
       "</table>\n",
       "</div>"
      ],
      "text/plain": [
       "       longitude  latitude  housing_median_age  total_rooms  total_bedrooms  \\\n",
       "2168     -119.87     36.79                 8.0       2875.0           548.0   \n",
       "1582     -122.00     37.86                18.0       8953.0          1074.0   \n",
       "12520    -121.47     38.55                48.0       1091.0           403.0   \n",
       "15147    -116.94     32.87                24.0       2824.0           441.0   \n",
       "1287     -121.84     38.02                46.0         66.0            22.0   \n",
       "\n",
       "       population  households  median_income  median_house_value  \\\n",
       "2168       1718.0       551.0         3.6522             80200.0   \n",
       "1582       3011.0       993.0        10.7372            500001.0   \n",
       "12520       926.0       336.0         1.1458             65400.0   \n",
       "15147      1480.0       471.0         5.2614            177200.0   \n",
       "1287         37.0        21.0         0.5360             87500.0   \n",
       "\n",
       "      ocean_proximity  \n",
       "2168           INLAND  \n",
       "1582        <1H OCEAN  \n",
       "12520          INLAND  \n",
       "15147       <1H OCEAN  \n",
       "1287           INLAND  "
      ]
     },
     "execution_count": 4,
     "metadata": {},
     "output_type": "execute_result"
    }
   ],
   "source": [
    "# Showing random 5 samples\n",
    "housing_dataset.sample(5)"
   ]
  },
  {
   "cell_type": "code",
   "execution_count": 5,
   "metadata": {},
   "outputs": [
    {
     "data": {
      "text/plain": [
       "(20640, 10)"
      ]
     },
     "execution_count": 5,
     "metadata": {},
     "output_type": "execute_result"
    }
   ],
   "source": [
    "# the shape of the data\n",
    "housing_dataset.shape"
   ]
  },
  {
   "cell_type": "code",
   "execution_count": 6,
   "metadata": {},
   "outputs": [
    {
     "data": {
      "text/plain": [
       "longitude               0\n",
       "latitude                0\n",
       "housing_median_age      0\n",
       "total_rooms             0\n",
       "total_bedrooms        207\n",
       "population              0\n",
       "households              0\n",
       "median_income           0\n",
       "median_house_value      0\n",
       "ocean_proximity         0\n",
       "dtype: int64"
      ]
     },
     "execution_count": 6,
     "metadata": {},
     "output_type": "execute_result"
    }
   ],
   "source": [
    "housing_dataset.isna().sum()"
   ]
  },
  {
   "cell_type": "code",
   "execution_count": 7,
   "metadata": {},
   "outputs": [
    {
     "data": {
      "text/plain": [
       "(20433, 10)"
      ]
     },
     "execution_count": 7,
     "metadata": {},
     "output_type": "execute_result"
    }
   ],
   "source": [
    "# drop the missing data\n",
    "housing_dataset = housing_dataset.dropna()\n",
    "\n",
    "# the shape after dropping the missing data\n",
    "housing_dataset.shape"
   ]
  },
  {
   "cell_type": "code",
   "execution_count": 8,
   "metadata": {},
   "outputs": [
    {
     "data": {
      "text/plain": [
       "longitude             0\n",
       "latitude              0\n",
       "housing_median_age    0\n",
       "total_rooms           0\n",
       "total_bedrooms        0\n",
       "population            0\n",
       "households            0\n",
       "median_income         0\n",
       "median_house_value    0\n",
       "ocean_proximity       0\n",
       "dtype: int64"
      ]
     },
     "execution_count": 8,
     "metadata": {},
     "output_type": "execute_result"
    }
   ],
   "source": [
    "housing_dataset.isna().sum()"
   ]
  },
  {
   "cell_type": "code",
   "execution_count": 9,
   "metadata": {},
   "outputs": [
    {
     "data": {
      "text/plain": [
       "array(['NEAR BAY', '<1H OCEAN', 'INLAND', 'NEAR OCEAN', 'ISLAND'],\n",
       "      dtype=object)"
      ]
     },
     "execution_count": 9,
     "metadata": {},
     "output_type": "execute_result"
    }
   ],
   "source": [
    "# Exporing the categorical data\n",
    "housing_dataset['ocean_proximity'].unique()"
   ]
  },
  {
   "cell_type": "code",
   "execution_count": 10,
   "metadata": {},
   "outputs": [
    {
     "data": {
      "text/html": [
       "<div>\n",
       "<style scoped>\n",
       "    .dataframe tbody tr th:only-of-type {\n",
       "        vertical-align: middle;\n",
       "    }\n",
       "\n",
       "    .dataframe tbody tr th {\n",
       "        vertical-align: top;\n",
       "    }\n",
       "\n",
       "    .dataframe thead th {\n",
       "        text-align: right;\n",
       "    }\n",
       "</style>\n",
       "<table border=\"1\" class=\"dataframe\">\n",
       "  <thead>\n",
       "    <tr style=\"text-align: right;\">\n",
       "      <th></th>\n",
       "      <th>longitude</th>\n",
       "      <th>latitude</th>\n",
       "      <th>housing_median_age</th>\n",
       "      <th>total_rooms</th>\n",
       "      <th>total_bedrooms</th>\n",
       "      <th>population</th>\n",
       "      <th>households</th>\n",
       "      <th>median_income</th>\n",
       "      <th>median_house_value</th>\n",
       "      <th>ocean_proximity_&lt;1H OCEAN</th>\n",
       "      <th>ocean_proximity_INLAND</th>\n",
       "      <th>ocean_proximity_ISLAND</th>\n",
       "      <th>ocean_proximity_NEAR BAY</th>\n",
       "      <th>ocean_proximity_NEAR OCEAN</th>\n",
       "    </tr>\n",
       "  </thead>\n",
       "  <tbody>\n",
       "    <tr>\n",
       "      <th>0</th>\n",
       "      <td>-122.23</td>\n",
       "      <td>37.88</td>\n",
       "      <td>41.0</td>\n",
       "      <td>880.0</td>\n",
       "      <td>129.0</td>\n",
       "      <td>322.0</td>\n",
       "      <td>126.0</td>\n",
       "      <td>8.3252</td>\n",
       "      <td>452600.0</td>\n",
       "      <td>0</td>\n",
       "      <td>0</td>\n",
       "      <td>0</td>\n",
       "      <td>1</td>\n",
       "      <td>0</td>\n",
       "    </tr>\n",
       "    <tr>\n",
       "      <th>1</th>\n",
       "      <td>-122.22</td>\n",
       "      <td>37.86</td>\n",
       "      <td>21.0</td>\n",
       "      <td>7099.0</td>\n",
       "      <td>1106.0</td>\n",
       "      <td>2401.0</td>\n",
       "      <td>1138.0</td>\n",
       "      <td>8.3014</td>\n",
       "      <td>358500.0</td>\n",
       "      <td>0</td>\n",
       "      <td>0</td>\n",
       "      <td>0</td>\n",
       "      <td>1</td>\n",
       "      <td>0</td>\n",
       "    </tr>\n",
       "    <tr>\n",
       "      <th>2</th>\n",
       "      <td>-122.24</td>\n",
       "      <td>37.85</td>\n",
       "      <td>52.0</td>\n",
       "      <td>1467.0</td>\n",
       "      <td>190.0</td>\n",
       "      <td>496.0</td>\n",
       "      <td>177.0</td>\n",
       "      <td>7.2574</td>\n",
       "      <td>352100.0</td>\n",
       "      <td>0</td>\n",
       "      <td>0</td>\n",
       "      <td>0</td>\n",
       "      <td>1</td>\n",
       "      <td>0</td>\n",
       "    </tr>\n",
       "    <tr>\n",
       "      <th>3</th>\n",
       "      <td>-122.25</td>\n",
       "      <td>37.85</td>\n",
       "      <td>52.0</td>\n",
       "      <td>1274.0</td>\n",
       "      <td>235.0</td>\n",
       "      <td>558.0</td>\n",
       "      <td>219.0</td>\n",
       "      <td>5.6431</td>\n",
       "      <td>341300.0</td>\n",
       "      <td>0</td>\n",
       "      <td>0</td>\n",
       "      <td>0</td>\n",
       "      <td>1</td>\n",
       "      <td>0</td>\n",
       "    </tr>\n",
       "    <tr>\n",
       "      <th>4</th>\n",
       "      <td>-122.25</td>\n",
       "      <td>37.85</td>\n",
       "      <td>52.0</td>\n",
       "      <td>1627.0</td>\n",
       "      <td>280.0</td>\n",
       "      <td>565.0</td>\n",
       "      <td>259.0</td>\n",
       "      <td>3.8462</td>\n",
       "      <td>342200.0</td>\n",
       "      <td>0</td>\n",
       "      <td>0</td>\n",
       "      <td>0</td>\n",
       "      <td>1</td>\n",
       "      <td>0</td>\n",
       "    </tr>\n",
       "  </tbody>\n",
       "</table>\n",
       "</div>"
      ],
      "text/plain": [
       "   longitude  latitude  housing_median_age  total_rooms  total_bedrooms  \\\n",
       "0    -122.23     37.88                41.0        880.0           129.0   \n",
       "1    -122.22     37.86                21.0       7099.0          1106.0   \n",
       "2    -122.24     37.85                52.0       1467.0           190.0   \n",
       "3    -122.25     37.85                52.0       1274.0           235.0   \n",
       "4    -122.25     37.85                52.0       1627.0           280.0   \n",
       "\n",
       "   population  households  median_income  median_house_value  \\\n",
       "0       322.0       126.0         8.3252            452600.0   \n",
       "1      2401.0      1138.0         8.3014            358500.0   \n",
       "2       496.0       177.0         7.2574            352100.0   \n",
       "3       558.0       219.0         5.6431            341300.0   \n",
       "4       565.0       259.0         3.8462            342200.0   \n",
       "\n",
       "   ocean_proximity_<1H OCEAN  ocean_proximity_INLAND  ocean_proximity_ISLAND  \\\n",
       "0                          0                       0                       0   \n",
       "1                          0                       0                       0   \n",
       "2                          0                       0                       0   \n",
       "3                          0                       0                       0   \n",
       "4                          0                       0                       0   \n",
       "\n",
       "   ocean_proximity_NEAR BAY  ocean_proximity_NEAR OCEAN  \n",
       "0                         1                           0  \n",
       "1                         1                           0  \n",
       "2                         1                           0  \n",
       "3                         1                           0  \n",
       "4                         1                           0  "
      ]
     },
     "execution_count": 10,
     "metadata": {},
     "output_type": "execute_result"
    }
   ],
   "source": [
    "# Converting categorical values to numeric values using one-hot encoding\n",
    "housing_dataset = pd.get_dummies(housing_dataset, columns= ['ocean_proximity'])\n",
    "\n",
    "# Another techinque:\n",
    "'''\n",
    "ocean_proximity = ['NEAR BAY', '<1H OCEAN', 'INLAND', 'NEAR OCEAN', 'ISLAND']\n",
    "label_encoding = preprocessing.LabelEncoder()\n",
    "label_encoding = label_encoding.fit(ocean_proximity)\n",
    "housing_dataset['ocean_proximity'] = label_encoding.transform(housing_dataset['ocean_proximity'])\n",
    "label_encoding.classes_\n",
    "'''\n",
    "\n",
    "# Showing the data after Converting categorical values to numeric values\n",
    "housing_dataset.head()"
   ]
  },
  {
   "cell_type": "code",
   "execution_count": 11,
   "metadata": {},
   "outputs": [
    {
     "data": {
      "text/plain": [
       "(20433, 14)"
      ]
     },
     "execution_count": 11,
     "metadata": {},
     "output_type": "execute_result"
    }
   ],
   "source": [
    "# Original data frame had 10 columns, we now have 14 columns\n",
    "housing_dataset.shape"
   ]
  },
  {
   "cell_type": "code",
   "execution_count": 12,
   "metadata": {},
   "outputs": [
    {
     "data": {
      "text/html": [
       "<div>\n",
       "<style scoped>\n",
       "    .dataframe tbody tr th:only-of-type {\n",
       "        vertical-align: middle;\n",
       "    }\n",
       "\n",
       "    .dataframe tbody tr th {\n",
       "        vertical-align: top;\n",
       "    }\n",
       "\n",
       "    .dataframe thead th {\n",
       "        text-align: right;\n",
       "    }\n",
       "</style>\n",
       "<table border=\"1\" class=\"dataframe\">\n",
       "  <thead>\n",
       "    <tr style=\"text-align: right;\">\n",
       "      <th></th>\n",
       "      <th>longitude</th>\n",
       "      <th>latitude</th>\n",
       "      <th>housing_median_age</th>\n",
       "      <th>total_rooms</th>\n",
       "      <th>total_bedrooms</th>\n",
       "      <th>population</th>\n",
       "      <th>households</th>\n",
       "      <th>median_income</th>\n",
       "      <th>median_house_value</th>\n",
       "      <th>ocean_proximity_&lt;1H OCEAN</th>\n",
       "      <th>ocean_proximity_INLAND</th>\n",
       "      <th>ocean_proximity_ISLAND</th>\n",
       "      <th>ocean_proximity_NEAR BAY</th>\n",
       "      <th>ocean_proximity_NEAR OCEAN</th>\n",
       "    </tr>\n",
       "  </thead>\n",
       "  <tbody>\n",
       "    <tr>\n",
       "      <th>longitude</th>\n",
       "      <td>1.000000</td>\n",
       "      <td>-0.924616</td>\n",
       "      <td>-0.109357</td>\n",
       "      <td>0.045480</td>\n",
       "      <td>0.069608</td>\n",
       "      <td>0.100270</td>\n",
       "      <td>0.056513</td>\n",
       "      <td>-0.015550</td>\n",
       "      <td>-0.045398</td>\n",
       "      <td>0.320831</td>\n",
       "      <td>-0.055337</td>\n",
       "      <td>0.009501</td>\n",
       "      <td>-0.474714</td>\n",
       "      <td>0.046185</td>\n",
       "    </tr>\n",
       "    <tr>\n",
       "      <th>latitude</th>\n",
       "      <td>-0.924616</td>\n",
       "      <td>1.000000</td>\n",
       "      <td>0.011899</td>\n",
       "      <td>-0.036667</td>\n",
       "      <td>-0.066983</td>\n",
       "      <td>-0.108997</td>\n",
       "      <td>-0.071774</td>\n",
       "      <td>-0.079626</td>\n",
       "      <td>-0.144638</td>\n",
       "      <td>-0.446928</td>\n",
       "      <td>0.351084</td>\n",
       "      <td>-0.016662</td>\n",
       "      <td>0.358785</td>\n",
       "      <td>-0.161342</td>\n",
       "    </tr>\n",
       "    <tr>\n",
       "      <th>housing_median_age</th>\n",
       "      <td>-0.109357</td>\n",
       "      <td>0.011899</td>\n",
       "      <td>1.000000</td>\n",
       "      <td>-0.360628</td>\n",
       "      <td>-0.320451</td>\n",
       "      <td>-0.295787</td>\n",
       "      <td>-0.302768</td>\n",
       "      <td>-0.118278</td>\n",
       "      <td>0.106432</td>\n",
       "      <td>0.045553</td>\n",
       "      <td>-0.236968</td>\n",
       "      <td>0.017105</td>\n",
       "      <td>0.256149</td>\n",
       "      <td>0.020797</td>\n",
       "    </tr>\n",
       "    <tr>\n",
       "      <th>total_rooms</th>\n",
       "      <td>0.045480</td>\n",
       "      <td>-0.036667</td>\n",
       "      <td>-0.360628</td>\n",
       "      <td>1.000000</td>\n",
       "      <td>0.930380</td>\n",
       "      <td>0.857281</td>\n",
       "      <td>0.918992</td>\n",
       "      <td>0.197882</td>\n",
       "      <td>0.133294</td>\n",
       "      <td>-0.003777</td>\n",
       "      <td>0.026477</td>\n",
       "      <td>-0.007603</td>\n",
       "      <td>-0.023647</td>\n",
       "      <td>-0.008674</td>\n",
       "    </tr>\n",
       "    <tr>\n",
       "      <th>total_bedrooms</th>\n",
       "      <td>0.069608</td>\n",
       "      <td>-0.066983</td>\n",
       "      <td>-0.320451</td>\n",
       "      <td>0.930380</td>\n",
       "      <td>1.000000</td>\n",
       "      <td>0.877747</td>\n",
       "      <td>0.979728</td>\n",
       "      <td>-0.007723</td>\n",
       "      <td>0.049686</td>\n",
       "      <td>0.018314</td>\n",
       "      <td>-0.006463</td>\n",
       "      <td>-0.004361</td>\n",
       "      <td>-0.019873</td>\n",
       "      <td>0.000679</td>\n",
       "    </tr>\n",
       "    <tr>\n",
       "      <th>population</th>\n",
       "      <td>0.100270</td>\n",
       "      <td>-0.108997</td>\n",
       "      <td>-0.295787</td>\n",
       "      <td>0.857281</td>\n",
       "      <td>0.877747</td>\n",
       "      <td>1.000000</td>\n",
       "      <td>0.907186</td>\n",
       "      <td>0.005087</td>\n",
       "      <td>-0.025300</td>\n",
       "      <td>0.073450</td>\n",
       "      <td>-0.019602</td>\n",
       "      <td>-0.010451</td>\n",
       "      <td>-0.061480</td>\n",
       "      <td>-0.023498</td>\n",
       "    </tr>\n",
       "    <tr>\n",
       "      <th>households</th>\n",
       "      <td>0.056513</td>\n",
       "      <td>-0.071774</td>\n",
       "      <td>-0.302768</td>\n",
       "      <td>0.918992</td>\n",
       "      <td>0.979728</td>\n",
       "      <td>0.907186</td>\n",
       "      <td>1.000000</td>\n",
       "      <td>0.013434</td>\n",
       "      <td>0.064894</td>\n",
       "      <td>0.041883</td>\n",
       "      <td>-0.038265</td>\n",
       "      <td>-0.009119</td>\n",
       "      <td>-0.011280</td>\n",
       "      <td>0.002106</td>\n",
       "    </tr>\n",
       "    <tr>\n",
       "      <th>median_income</th>\n",
       "      <td>-0.015550</td>\n",
       "      <td>-0.079626</td>\n",
       "      <td>-0.118278</td>\n",
       "      <td>0.197882</td>\n",
       "      <td>-0.007723</td>\n",
       "      <td>0.005087</td>\n",
       "      <td>0.013434</td>\n",
       "      <td>1.000000</td>\n",
       "      <td>0.688355</td>\n",
       "      <td>0.168715</td>\n",
       "      <td>-0.237536</td>\n",
       "      <td>-0.009281</td>\n",
       "      <td>0.056677</td>\n",
       "      <td>0.027351</td>\n",
       "    </tr>\n",
       "    <tr>\n",
       "      <th>median_house_value</th>\n",
       "      <td>-0.045398</td>\n",
       "      <td>-0.144638</td>\n",
       "      <td>0.106432</td>\n",
       "      <td>0.133294</td>\n",
       "      <td>0.049686</td>\n",
       "      <td>-0.025300</td>\n",
       "      <td>0.064894</td>\n",
       "      <td>0.688355</td>\n",
       "      <td>1.000000</td>\n",
       "      <td>0.257614</td>\n",
       "      <td>-0.484787</td>\n",
       "      <td>0.023525</td>\n",
       "      <td>0.160526</td>\n",
       "      <td>0.140378</td>\n",
       "    </tr>\n",
       "    <tr>\n",
       "      <th>ocean_proximity_&lt;1H OCEAN</th>\n",
       "      <td>0.320831</td>\n",
       "      <td>-0.446928</td>\n",
       "      <td>0.045553</td>\n",
       "      <td>-0.003777</td>\n",
       "      <td>0.018314</td>\n",
       "      <td>0.073450</td>\n",
       "      <td>0.041883</td>\n",
       "      <td>0.168715</td>\n",
       "      <td>0.257614</td>\n",
       "      <td>1.000000</td>\n",
       "      <td>-0.607778</td>\n",
       "      <td>-0.013928</td>\n",
       "      <td>-0.314721</td>\n",
       "      <td>-0.342018</td>\n",
       "    </tr>\n",
       "    <tr>\n",
       "      <th>ocean_proximity_INLAND</th>\n",
       "      <td>-0.055337</td>\n",
       "      <td>0.351084</td>\n",
       "      <td>-0.236968</td>\n",
       "      <td>0.026477</td>\n",
       "      <td>-0.006463</td>\n",
       "      <td>-0.019602</td>\n",
       "      <td>-0.038265</td>\n",
       "      <td>-0.237536</td>\n",
       "      <td>-0.484787</td>\n",
       "      <td>-0.607778</td>\n",
       "      <td>1.000000</td>\n",
       "      <td>-0.010681</td>\n",
       "      <td>-0.241356</td>\n",
       "      <td>-0.262289</td>\n",
       "    </tr>\n",
       "    <tr>\n",
       "      <th>ocean_proximity_ISLAND</th>\n",
       "      <td>0.009501</td>\n",
       "      <td>-0.016662</td>\n",
       "      <td>0.017105</td>\n",
       "      <td>-0.007603</td>\n",
       "      <td>-0.004361</td>\n",
       "      <td>-0.010451</td>\n",
       "      <td>-0.009119</td>\n",
       "      <td>-0.009281</td>\n",
       "      <td>0.023525</td>\n",
       "      <td>-0.013928</td>\n",
       "      <td>-0.010681</td>\n",
       "      <td>1.000000</td>\n",
       "      <td>-0.005531</td>\n",
       "      <td>-0.006011</td>\n",
       "    </tr>\n",
       "    <tr>\n",
       "      <th>ocean_proximity_NEAR BAY</th>\n",
       "      <td>-0.474714</td>\n",
       "      <td>0.358785</td>\n",
       "      <td>0.256149</td>\n",
       "      <td>-0.023647</td>\n",
       "      <td>-0.019873</td>\n",
       "      <td>-0.061480</td>\n",
       "      <td>-0.011280</td>\n",
       "      <td>0.056677</td>\n",
       "      <td>0.160526</td>\n",
       "      <td>-0.314721</td>\n",
       "      <td>-0.241356</td>\n",
       "      <td>-0.005531</td>\n",
       "      <td>1.000000</td>\n",
       "      <td>-0.135819</td>\n",
       "    </tr>\n",
       "    <tr>\n",
       "      <th>ocean_proximity_NEAR OCEAN</th>\n",
       "      <td>0.046185</td>\n",
       "      <td>-0.161342</td>\n",
       "      <td>0.020797</td>\n",
       "      <td>-0.008674</td>\n",
       "      <td>0.000679</td>\n",
       "      <td>-0.023498</td>\n",
       "      <td>0.002106</td>\n",
       "      <td>0.027351</td>\n",
       "      <td>0.140378</td>\n",
       "      <td>-0.342018</td>\n",
       "      <td>-0.262289</td>\n",
       "      <td>-0.006011</td>\n",
       "      <td>-0.135819</td>\n",
       "      <td>1.000000</td>\n",
       "    </tr>\n",
       "  </tbody>\n",
       "</table>\n",
       "</div>"
      ],
      "text/plain": [
       "                            longitude  latitude  housing_median_age  \\\n",
       "longitude                    1.000000 -0.924616           -0.109357   \n",
       "latitude                    -0.924616  1.000000            0.011899   \n",
       "housing_median_age          -0.109357  0.011899            1.000000   \n",
       "total_rooms                  0.045480 -0.036667           -0.360628   \n",
       "total_bedrooms               0.069608 -0.066983           -0.320451   \n",
       "population                   0.100270 -0.108997           -0.295787   \n",
       "households                   0.056513 -0.071774           -0.302768   \n",
       "median_income               -0.015550 -0.079626           -0.118278   \n",
       "median_house_value          -0.045398 -0.144638            0.106432   \n",
       "ocean_proximity_<1H OCEAN    0.320831 -0.446928            0.045553   \n",
       "ocean_proximity_INLAND      -0.055337  0.351084           -0.236968   \n",
       "ocean_proximity_ISLAND       0.009501 -0.016662            0.017105   \n",
       "ocean_proximity_NEAR BAY    -0.474714  0.358785            0.256149   \n",
       "ocean_proximity_NEAR OCEAN   0.046185 -0.161342            0.020797   \n",
       "\n",
       "                            total_rooms  total_bedrooms  population  \\\n",
       "longitude                      0.045480        0.069608    0.100270   \n",
       "latitude                      -0.036667       -0.066983   -0.108997   \n",
       "housing_median_age            -0.360628       -0.320451   -0.295787   \n",
       "total_rooms                    1.000000        0.930380    0.857281   \n",
       "total_bedrooms                 0.930380        1.000000    0.877747   \n",
       "population                     0.857281        0.877747    1.000000   \n",
       "households                     0.918992        0.979728    0.907186   \n",
       "median_income                  0.197882       -0.007723    0.005087   \n",
       "median_house_value             0.133294        0.049686   -0.025300   \n",
       "ocean_proximity_<1H OCEAN     -0.003777        0.018314    0.073450   \n",
       "ocean_proximity_INLAND         0.026477       -0.006463   -0.019602   \n",
       "ocean_proximity_ISLAND        -0.007603       -0.004361   -0.010451   \n",
       "ocean_proximity_NEAR BAY      -0.023647       -0.019873   -0.061480   \n",
       "ocean_proximity_NEAR OCEAN    -0.008674        0.000679   -0.023498   \n",
       "\n",
       "                            households  median_income  median_house_value  \\\n",
       "longitude                     0.056513      -0.015550           -0.045398   \n",
       "latitude                     -0.071774      -0.079626           -0.144638   \n",
       "housing_median_age           -0.302768      -0.118278            0.106432   \n",
       "total_rooms                   0.918992       0.197882            0.133294   \n",
       "total_bedrooms                0.979728      -0.007723            0.049686   \n",
       "population                    0.907186       0.005087           -0.025300   \n",
       "households                    1.000000       0.013434            0.064894   \n",
       "median_income                 0.013434       1.000000            0.688355   \n",
       "median_house_value            0.064894       0.688355            1.000000   \n",
       "ocean_proximity_<1H OCEAN     0.041883       0.168715            0.257614   \n",
       "ocean_proximity_INLAND       -0.038265      -0.237536           -0.484787   \n",
       "ocean_proximity_ISLAND       -0.009119      -0.009281            0.023525   \n",
       "ocean_proximity_NEAR BAY     -0.011280       0.056677            0.160526   \n",
       "ocean_proximity_NEAR OCEAN    0.002106       0.027351            0.140378   \n",
       "\n",
       "                            ocean_proximity_<1H OCEAN  ocean_proximity_INLAND  \\\n",
       "longitude                                    0.320831               -0.055337   \n",
       "latitude                                    -0.446928                0.351084   \n",
       "housing_median_age                           0.045553               -0.236968   \n",
       "total_rooms                                 -0.003777                0.026477   \n",
       "total_bedrooms                               0.018314               -0.006463   \n",
       "population                                   0.073450               -0.019602   \n",
       "households                                   0.041883               -0.038265   \n",
       "median_income                                0.168715               -0.237536   \n",
       "median_house_value                           0.257614               -0.484787   \n",
       "ocean_proximity_<1H OCEAN                    1.000000               -0.607778   \n",
       "ocean_proximity_INLAND                      -0.607778                1.000000   \n",
       "ocean_proximity_ISLAND                      -0.013928               -0.010681   \n",
       "ocean_proximity_NEAR BAY                    -0.314721               -0.241356   \n",
       "ocean_proximity_NEAR OCEAN                  -0.342018               -0.262289   \n",
       "\n",
       "                            ocean_proximity_ISLAND  ocean_proximity_NEAR BAY  \\\n",
       "longitude                                 0.009501                 -0.474714   \n",
       "latitude                                 -0.016662                  0.358785   \n",
       "housing_median_age                        0.017105                  0.256149   \n",
       "total_rooms                              -0.007603                 -0.023647   \n",
       "total_bedrooms                           -0.004361                 -0.019873   \n",
       "population                               -0.010451                 -0.061480   \n",
       "households                               -0.009119                 -0.011280   \n",
       "median_income                            -0.009281                  0.056677   \n",
       "median_house_value                        0.023525                  0.160526   \n",
       "ocean_proximity_<1H OCEAN                -0.013928                 -0.314721   \n",
       "ocean_proximity_INLAND                   -0.010681                 -0.241356   \n",
       "ocean_proximity_ISLAND                    1.000000                 -0.005531   \n",
       "ocean_proximity_NEAR BAY                 -0.005531                  1.000000   \n",
       "ocean_proximity_NEAR OCEAN               -0.006011                 -0.135819   \n",
       "\n",
       "                            ocean_proximity_NEAR OCEAN  \n",
       "longitude                                     0.046185  \n",
       "latitude                                     -0.161342  \n",
       "housing_median_age                            0.020797  \n",
       "total_rooms                                  -0.008674  \n",
       "total_bedrooms                                0.000679  \n",
       "population                                   -0.023498  \n",
       "households                                    0.002106  \n",
       "median_income                                 0.027351  \n",
       "median_house_value                            0.140378  \n",
       "ocean_proximity_<1H OCEAN                    -0.342018  \n",
       "ocean_proximity_INLAND                       -0.262289  \n",
       "ocean_proximity_ISLAND                       -0.006011  \n",
       "ocean_proximity_NEAR BAY                     -0.135819  \n",
       "ocean_proximity_NEAR OCEAN                    1.000000  "
      ]
     },
     "execution_count": 12,
     "metadata": {},
     "output_type": "execute_result"
    }
   ],
   "source": [
    "# Showing the correlation between data\n",
    "housing_dataset_correlation = housing_dataset.corr()\n",
    "housing_dataset_correlation"
   ]
  },
  {
   "cell_type": "code",
   "execution_count": 13,
   "metadata": {},
   "outputs": [
    {
     "data": {
      "text/plain": [
       "<matplotlib.axes._subplots.AxesSubplot at 0x7f073a4c27b8>"
      ]
     },
     "execution_count": 13,
     "metadata": {},
     "output_type": "execute_result"
    },
    {
     "data": {
      "image/png": "[encoded data removed]",
      "text/plain": [
       "<Figure size 1080x864 with 2 Axes>"
      ]
     },
     "metadata": {
      "needs_background": "light"
     },
     "output_type": "display_data"
    }
   ],
   "source": [
    "# housing dataset correlation in heat map\n",
    "plt.figure(figsize=(15,12))\n",
    "sns.heatmap(housing_dataset_correlation, annot = True)"
   ]
  },
  {
   "cell_type": "code",
   "execution_count": 14,
   "metadata": {},
   "outputs": [],
   "source": [
    "# Extracting the data\n",
    "X = housing_dataset.drop('median_house_value', axis = 1)  # Features\n",
    "Y = housing_dataset['median_house_value']                 # Target"
   ]
  },
  {
   "cell_type": "code",
   "execution_count": 15,
   "metadata": {},
   "outputs": [],
   "source": [
    "# Splitting the data into traing and testing data\n",
    "x_train, x_test, y_train, y_test = train_test_split(X, Y, test_size = 0.2, random_state=45)"
   ]
  },
  {
   "cell_type": "markdown",
   "metadata": {},
   "source": [
    "# 1. Using Linear Regression"
   ]
  },
  {
   "cell_type": "code",
   "execution_count": 16,
   "metadata": {},
   "outputs": [],
   "source": [
    "linear_regressor = LinearRegression(normalize = True, fit_intercept = False, copy_X = True).fit(x_train, y_train)\n",
    "# Normailzation scales all numeric features to be between 0 and 1. \n",
    "# Having features in the same scale can vastly improve tne performance of your ML model"
   ]
  },
  {
   "cell_type": "code",
   "execution_count": 17,
   "metadata": {},
   "outputs": [
    {
     "name": "stdout",
     "output_type": "stream",
     "text": [
      "Training score :  0.6480944739155928\n"
     ]
    }
   ],
   "source": [
    "print(\"Training score : \", linear_regressor.score(x_train, y_train))\n",
    "# R-Square is a measure of how well our linear mogel captures the underlying variation in our training data"
   ]
  },
  {
   "cell_type": "code",
   "execution_count": 18,
   "metadata": {},
   "outputs": [
    {
     "name": "stdout",
     "output_type": "stream",
     "text": [
      "testing score :  0.63681675459899\n"
     ]
    }
   ],
   "source": [
    "y_pred = linear_regressor.predict(x_test)\n",
    "\n",
    "print(\"testing score : \", r2_score(y_test, y_pred))"
   ]
  },
  {
   "cell_type": "code",
   "execution_count": 19,
   "metadata": {},
   "outputs": [
    {
     "data": {
      "text/plain": [
       "(0.0,\n",
       " array([-2.75922701e+04, -2.60858768e+04,  1.07513510e+03, -6.11705111e+00,\n",
       "         9.96010820e+01, -4.36827919e+01,  6.53233737e+01,  3.94080582e+04,\n",
       "        -2.34126629e+06, -2.37993012e+06, -2.18990957e+06, -2.34668968e+06,\n",
       "        -2.33668398e+06]))"
      ]
     },
     "execution_count": 19,
     "metadata": {},
     "output_type": "execute_result"
    }
   ],
   "source": [
    "linear_regressor.intercept_ , linear_regressor.coef_"
   ]
  },
  {
   "cell_type": "code",
   "execution_count": 20,
   "metadata": {
    "collapsed": true
   },
   "outputs": [
    {
     "data": {
      "text/plain": [
       "\"\\nlinear_regressor_parameter = {'normalize': [True, False], 'fit_intercept': [True, False]}\\nlinear_regressor_grid_search = GridSearchCV(LinearRegression(), linear_regressor_parameter, cv = 2)\\nlinear_regressor_grid_search.fit(X, Y)\\nprint('The best score',linear_regressor_grid_search.best_score_)\\nprint('The best parameters',linear_regressor_grid_search.best_params_)\\n\""
      ]
     },
     "execution_count": 20,
     "metadata": {},
     "output_type": "execute_result"
    }
   ],
   "source": [
    "# Hyper-Parameters Tuning\n",
    "'''\n",
    "linear_regressor_parameter = {'normalize': [True, False], 'fit_intercept': [True, False]}\n",
    "linear_regressor_grid_search = GridSearchCV(LinearRegression(), linear_regressor_parameter, cv = 2)\n",
    "linear_regressor_grid_search.fit(X, Y)\n",
    "print('The best score',linear_regressor_grid_search.best_score_)\n",
    "print('The best parameters',linear_regressor_grid_search.best_params_)\n",
    "'''\n",
    "\n",
    "# The result:\n",
    "\n",
    "# The best parameters {'fit_intercept': False, 'normalize': True}"
   ]
  },
  {
   "cell_type": "markdown",
   "metadata": {},
   "source": [
    "# 2. Using Lasso Regression"
   ]
  },
  {
   "cell_type": "code",
   "execution_count": 21,
   "metadata": {},
   "outputs": [],
   "source": [
    "lasso_regressor = Lasso(alpha = 1, fit_intercept= True, normalize= False, max_iter = 20000).fit(x_train, y_train)"
   ]
  },
  {
   "cell_type": "code",
   "execution_count": 22,
   "metadata": {},
   "outputs": [
    {
     "name": "stdout",
     "output_type": "stream",
     "text": [
      "Training score :  0.6480942268356988\n"
     ]
    }
   ],
   "source": [
    "print(\"Training score : \", lasso_regressor.score(x_train, y_train))\n",
    "# R-Square is a measure of how well our linear mogel captures the underlying variation in our training data"
   ]
  },
  {
   "cell_type": "code",
   "execution_count": 23,
   "metadata": {},
   "outputs": [
    {
     "name": "stdout",
     "output_type": "stream",
     "text": [
      "testing score :  0.6368175699236837\n"
     ]
    }
   ],
   "source": [
    "y_pred = lasso_regressor.predict(x_test)\n",
    "print(\"testing score : \", r2_score(y_test, y_pred))"
   ]
  },
  {
   "cell_type": "code",
   "execution_count": 24,
   "metadata": {},
   "outputs": [
    {
     "data": {
      "text/plain": [
       "(-2341191.569059495,\n",
       " array([-2.75921451e+04, -2.60875641e+04,  1.07517725e+03, -6.11693077e+00,\n",
       "         9.96133966e+01, -4.36835091e+01,  6.53099049e+01,  3.94076316e+04,\n",
       "         0.00000000e+00, -3.86575692e+04,  1.48082091e+05, -5.40910353e+03,\n",
       "         4.57459810e+03]),\n",
       " 3202)"
      ]
     },
     "execution_count": 24,
     "metadata": {},
     "output_type": "execute_result"
    }
   ],
   "source": [
    "lasso_regressor.intercept_ , lasso_regressor.coef_ , lasso_regressor. n_iter_"
   ]
  },
  {
   "cell_type": "code",
   "execution_count": 25,
   "metadata": {},
   "outputs": [
    {
     "data": {
      "text/plain": [
       "\"\\nlasso_regressor_parameter = {'alpha': [0.2,0.4,0.6,0.8,1], 'normalize': [True, False], 'fit_intercept': [True, False]}\\nlasso_regressor_grid_search = GridSearchCV(Lasso(max_iter = 400000), lasso_regressor_parameter, cv = 2)\\nlasso_regressor_grid_search.fit(X, Y)\\nprint('The best score',lasso_regressor_grid_search.best_score_)\\nprint('The best parameters',lasso_regressor_grid_search.best_params_)\\n\""
      ]
     },
     "execution_count": 25,
     "metadata": {},
     "output_type": "execute_result"
    }
   ],
   "source": [
    "# hyper-Parameters Tuning\n",
    "'''\n",
    "lasso_regressor_parameter = {'alpha': [0.2,0.4,0.6,0.8,1], 'normalize': [True, False], 'fit_intercept': [True, False]}\n",
    "lasso_regressor_grid_search = GridSearchCV(Lasso(max_iter = 400000), lasso_regressor_parameter, cv = 2)\n",
    "lasso_regressor_grid_search.fit(X, Y)\n",
    "print('The best score',lasso_regressor_grid_search.best_score_)\n",
    "print('The best parameters',lasso_regressor_grid_search.best_params_)\n",
    "'''\n",
    "\n",
    "# The result:\n",
    "\n",
    "# The best parameters {'alpha': 1, 'fit_intercept': True, 'normalize': False}"
   ]
  },
  {
   "cell_type": "markdown",
   "metadata": {},
   "source": [
    "# 3. Using Ridge Regression"
   ]
  },
  {
   "cell_type": "code",
   "execution_count": 26,
   "metadata": {},
   "outputs": [],
   "source": [
    "ridge_regressor = Ridge(alpha = 0.4, fit_intercept= True, normalize= False, max_iter = 20000).fit(x_train, y_train)"
   ]
  },
  {
   "cell_type": "code",
   "execution_count": 27,
   "metadata": {},
   "outputs": [
    {
     "name": "stdout",
     "output_type": "stream",
     "text": [
      "Training score :  0.6480923150649922\n"
     ]
    }
   ],
   "source": [
    "print(\"Training score : \", ridge_regressor.score(x_train, y_train))\n",
    "# R-Square is a measure of how well our linear mogel captures the underlying variation in our training data"
   ]
  },
  {
   "cell_type": "code",
   "execution_count": 28,
   "metadata": {},
   "outputs": [
    {
     "name": "stdout",
     "output_type": "stream",
     "text": [
      "testing score :  0.6368137780263742\n"
     ]
    }
   ],
   "source": [
    "y_pred = ridge_regressor.predict(x_test)\n",
    "print(\"testing score : \", r2_score(y_test, y_pred))"
   ]
  },
  {
   "cell_type": "code",
   "execution_count": 29,
   "metadata": {},
   "outputs": [
    {
     "data": {
      "text/plain": [
       "(-2321630.9811814525,\n",
       " array([-2.76026039e+04, -2.60983253e+04,  1.07536014e+03, -6.11644018e+00,\n",
       "         9.96537546e+01, -4.36847428e+01,  6.52650866e+01,  3.94069193e+04,\n",
       "        -2.04311787e+04, -5.90755751e+04,  1.21205112e+05, -2.58475205e+04,\n",
       "        -1.58508378e+04]),\n",
       " None)"
      ]
     },
     "execution_count": 29,
     "metadata": {},
     "output_type": "execute_result"
    }
   ],
   "source": [
    "ridge_regressor.intercept_ , ridge_regressor.coef_ , ridge_regressor. n_iter_"
   ]
  },
  {
   "cell_type": "code",
   "execution_count": 30,
   "metadata": {},
   "outputs": [
    {
     "data": {
      "text/plain": [
       "\"\\nridge_regressor_parameter = {'alpha': [0.2,0.4,0.6,0.8,1], 'normalize': [True, False], 'fit_intercept': [True, False]}\\nridge_regressor_grid_search = GridSearchCV(Ridge(max_iter = 400000), ridge_regressor_parameter, cv = 2)\\nridge_regressor_grid_search.fit(X, Y)\\nprint('The best score',ridge_regressor_grid_search.best_score_)\\nprint('The best parameters',ridge_regressor_grid_search.best_params_)\\n\""
      ]
     },
     "execution_count": 30,
     "metadata": {},
     "output_type": "execute_result"
    }
   ],
   "source": [
    "# hyper-Parameters Tuning\n",
    "'''\n",
    "ridge_regressor_parameter = {'alpha': [0.2,0.4,0.6,0.8,1], 'normalize': [True, False], 'fit_intercept': [True, False]}\n",
    "ridge_regressor_grid_search = GridSearchCV(Ridge(max_iter = 400000), ridge_regressor_parameter, cv = 2)\n",
    "ridge_regressor_grid_search.fit(X, Y)\n",
    "print('The best score',ridge_regressor_grid_search.best_score_)\n",
    "print('The best parameters',ridge_regressor_grid_search.best_params_)\n",
    "'''\n",
    "\n",
    "# The result:\n",
    "\n",
    "# The best parameters {'alpha': 0.4, 'fit_intercept': True, 'normalize': False}"
   ]
  },
  {
   "cell_type": "markdown",
   "metadata": {},
   "source": [
    "# 4. Using ElasticNet Regression"
   ]
  },
  {
   "cell_type": "code",
   "execution_count": 31,
   "metadata": {},
   "outputs": [],
   "source": [
    "elastic_regressor = ElasticNet(alpha = 1, l1_ratio = 1, normalize = False, fit_intercept= True, max_iter = 20000).fit(x_train, y_train)"
   ]
  },
  {
   "cell_type": "code",
   "execution_count": 32,
   "metadata": {},
   "outputs": [
    {
     "name": "stdout",
     "output_type": "stream",
     "text": [
      "Training score :  0.6480942268356988\n"
     ]
    }
   ],
   "source": [
    "print(\"Training score : \", elastic_regressor.score(x_train, y_train))\n",
    "# R-Square is a measure of how well our linear mogel captures the underlying variation in our training data"
   ]
  },
  {
   "cell_type": "code",
   "execution_count": 33,
   "metadata": {},
   "outputs": [
    {
     "name": "stdout",
     "output_type": "stream",
     "text": [
      "testing score :  0.6368175699236837\n"
     ]
    }
   ],
   "source": [
    "y_pred = elastic_regressor.predict(x_test)\n",
    "print(\"testing score : \", r2_score(y_test, y_pred))"
   ]
  },
  {
   "cell_type": "code",
   "execution_count": 34,
   "metadata": {},
   "outputs": [
    {
     "data": {
      "text/plain": [
       "(-2341191.569059495,\n",
       " array([-2.75921451e+04, -2.60875641e+04,  1.07517725e+03, -6.11693077e+00,\n",
       "         9.96133966e+01, -4.36835091e+01,  6.53099049e+01,  3.94076316e+04,\n",
       "         0.00000000e+00, -3.86575692e+04,  1.48082091e+05, -5.40910353e+03,\n",
       "         4.57459810e+03]),\n",
       " 3202)"
      ]
     },
     "execution_count": 34,
     "metadata": {},
     "output_type": "execute_result"
    }
   ],
   "source": [
    "elastic_regressor.intercept_ , elastic_regressor.coef_ , elastic_regressor. n_iter_"
   ]
  },
  {
   "cell_type": "code",
   "execution_count": 35,
   "metadata": {},
   "outputs": [
    {
     "data": {
      "text/plain": [
       "\"\\nelastic_regressor_parameter = {'alpha': [0.2,0.4,0.6,0.8,1], 'l1_ratio': [0,0.2,0.5,0.8,1] , 'normalize': [True, False], 'fit_intercept': [True, False]}\\nelastic_regressor_grid_search = GridSearchCV(ElasticNet(max_iter = 400000), elastic_regressor_parameter, cv = 2)\\nelastic_regressor_grid_search.fit(X, Y)\\nprint('The best score',elastic_regressor_grid_search.best_score_)\\nprint('The best parameters',elastic_regressor_grid_search.best_params_)\\n\""
      ]
     },
     "execution_count": 35,
     "metadata": {},
     "output_type": "execute_result"
    }
   ],
   "source": [
    "# hyper-Parameters Tuning\n",
    "'''\n",
    "elastic_regressor_parameter = {'alpha': [0.2,0.4,0.6,0.8,1], 'l1_ratio': [0,0.2,0.5,0.8,1] , 'normalize': [True, False], 'fit_intercept': [True, False]}\n",
    "elastic_regressor_grid_search = GridSearchCV(ElasticNet(max_iter = 400000), elastic_regressor_parameter, cv = 2)\n",
    "elastic_regressor_grid_search.fit(X, Y)\n",
    "print('The best score',elastic_regressor_grid_search.best_score_)\n",
    "print('The best parameters',elastic_regressor_grid_search.best_params_)\n",
    "'''\n",
    "\n",
    "# The result:\n",
    "\n",
    "# The best parameters {'alpha': 1, 'fit_intercept': True, 'l1_ratio': 1, 'normalize': False}"
   ]
  },
  {
   "cell_type": "markdown",
   "metadata": {},
   "source": [
    "# 5. Using Support Vector Regressor (SVR)"
   ]
  },
  {
   "cell_type": "code",
   "execution_count": 36,
   "metadata": {},
   "outputs": [],
   "source": [
    "# SVR tries to fit as many points as possiple into a margine surrounding the best fit line\n",
    "svr_regressor = SVR(kernel='linear', epsilon = 0.2, C = 1).fit(x_train, y_train)"
   ]
  },
  {
   "cell_type": "code",
   "execution_count": 37,
   "metadata": {},
   "outputs": [
    {
     "name": "stdout",
     "output_type": "stream",
     "text": [
      "Training score :  0.34927778881231536\n"
     ]
    }
   ],
   "source": [
    "print(\"Training score : \", svr_regressor.score(x_train, y_train))\n",
    "# R-Square is a measure of how well our linear mogel captures the underlying variation in our training data"
   ]
  },
  {
   "cell_type": "code",
   "execution_count": 38,
   "metadata": {},
   "outputs": [
    {
     "name": "stdout",
     "output_type": "stream",
     "text": [
      "testing score :  0.33832864177389277\n"
     ]
    }
   ],
   "source": [
    "y_pred = svr_regressor.predict(x_test)\n",
    "print(\"testing score : \", r2_score(y_test, y_pred))"
   ]
  },
  {
   "cell_type": "code",
   "execution_count": 39,
   "metadata": {},
   "outputs": [
    {
     "data": {
      "text/plain": [
       "\"\\nsvr_regressor_parameter = {'kernel': ['linear', 'poly', 'rbf', 'sigmoid'], 'epsilon': [0.05,0.1,0.2,0.3], 'C': [0.2,0.5,0.8,1]}\\nsvr_regressor_grid_search = GridSearchCV(SVR(), svr_regressor_parameter, cv = 2)\\nsvr_regressor_grid_search.fit(X, Y)\\nprint('The best score',svr_regressor_grid_search.best_score_)\\nprint('The best parameters',svr_regressor_grid_search.best_params_)\\n\""
      ]
     },
     "execution_count": 39,
     "metadata": {},
     "output_type": "execute_result"
    }
   ],
   "source": [
    "# hyper-Parameters Tuning\n",
    "'''\n",
    "svr_regressor_parameter = {'kernel': ['linear', 'poly', 'rbf', 'sigmoid'], 'epsilon': [0.05,0.1,0.2,0.3], 'C': [0.2,0.5,0.8,1]}\n",
    "svr_regressor_grid_search = GridSearchCV(SVR(), svr_regressor_parameter, cv = 2)\n",
    "svr_regressor_grid_search.fit(X, Y)\n",
    "print('The best score',svr_regressor_grid_search.best_score_)\n",
    "print('The best parameters',svr_regressor_grid_search.best_params_)\n",
    "'''\n"
   ]
  },
  {
   "cell_type": "markdown",
   "metadata": {},
   "source": [
    "# 6. Using Nearest Nieghbors regression"
   ]
  },
  {
   "cell_type": "code",
   "execution_count": 40,
   "metadata": {},
   "outputs": [],
   "source": [
    "# Nearest Nieghbors regression uses training data to find what is most similar to the current sample\n",
    "# Average y-values of K nearest nieghbors\n",
    "\n",
    "knn_regressor = KNeighborsRegressor(n_neighbors = 10).fit(x_train, y_train)"
   ]
  },
  {
   "cell_type": "code",
   "execution_count": 41,
   "metadata": {},
   "outputs": [
    {
     "name": "stdout",
     "output_type": "stream",
     "text": [
      "Training score :  0.4352170424028876\n"
     ]
    }
   ],
   "source": [
    "print(\"Training score : \", knn_regressor.score(x_train, y_train))\n",
    "# R-Square is a measure of how well our linear mogel captures the underlying variation in our training data"
   ]
  },
  {
   "cell_type": "code",
   "execution_count": 42,
   "metadata": {},
   "outputs": [
    {
     "name": "stdout",
     "output_type": "stream",
     "text": [
      "testing score :  0.3038169297005\n"
     ]
    }
   ],
   "source": [
    "y_pred = knn_regressor.predict(x_test)\n",
    "print(\"testing score : \", r2_score(y_test, y_pred))"
   ]
  },
  {
   "cell_type": "code",
   "execution_count": 43,
   "metadata": {},
   "outputs": [
    {
     "data": {
      "text/plain": [
       "\"\\nknn_regressor_parameter = {'n_neighbors': [3,5,8,10,15,20,25]}\\nknn_regressor_grid_search = GridSearchCV(KNeighborsRegressor(), knn_regressor_parameter, cv = 2)\\nknn_regressor_grid_search.fit(X, Y)\\nprint('The best score',knn_regressor_grid_search.best_score_)\\nprint('The best parameters',knn_regressor_grid_search.best_params_)\\n\""
      ]
     },
     "execution_count": 43,
     "metadata": {},
     "output_type": "execute_result"
    }
   ],
   "source": [
    "# hyper-Parameters Tuning\n",
    "'''\n",
    "knn_regressor_parameter = {'n_neighbors': [3,5,8,10,15,20,25]}\n",
    "knn_regressor_grid_search = GridSearchCV(KNeighborsRegressor(), knn_regressor_parameter, cv = 2)\n",
    "knn_regressor_grid_search.fit(X, Y)\n",
    "print('The best score',knn_regressor_grid_search.best_score_)\n",
    "print('The best parameters',knn_regressor_grid_search.best_params_)\n",
    "'''"
   ]
  },
  {
   "cell_type": "markdown",
   "metadata": {},
   "source": [
    "# 7. Using Decision trees"
   ]
  },
  {
   "cell_type": "code",
   "execution_count": 44,
   "metadata": {},
   "outputs": [],
   "source": [
    "# Decision trees set up a tree structure on training data which helps make decisions based on rules\n",
    "\n",
    "tree_regressor = DecisionTreeRegressor(max_depth = 7).fit(x_train, y_train)"
   ]
  },
  {
   "cell_type": "code",
   "execution_count": 45,
   "metadata": {},
   "outputs": [
    {
     "name": "stdout",
     "output_type": "stream",
     "text": [
      "Training score :  0.7187518572030445\n"
     ]
    }
   ],
   "source": [
    "print(\"Training score : \", tree_regressor.score(x_train, y_train))\n",
    "# R-Square is a measure of how well our linear mogel captures the underlying variation in our training data"
   ]
  },
  {
   "cell_type": "code",
   "execution_count": 46,
   "metadata": {},
   "outputs": [
    {
     "name": "stdout",
     "output_type": "stream",
     "text": [
      "testing score :  0.6859403905635566\n"
     ]
    }
   ],
   "source": [
    "y_pred = tree_regressor.predict(x_test)\n",
    "print(\"testing score : \", r2_score(y_test, y_pred))"
   ]
  },
  {
   "cell_type": "code",
   "execution_count": 47,
   "metadata": {},
   "outputs": [
    {
     "data": {
      "text/plain": [
       "\"\\ntreen_regressor_parameter = {'max_depth': [2,3,4,5,6,7,8,9,10]}\\ntree_regressor_grid_search = GridSearchCV(DecisionTreeRegressor(), tree_regressor_parameter, cv = 2)\\ntree_regressor_grid_search.fit(X, Y)\\nprint('The best score',tree_regressor_grid_search.best_score_)\\nprint('The best parameters',tree_regressor_grid_search.best_params_)\\n\""
      ]
     },
     "execution_count": 47,
     "metadata": {},
     "output_type": "execute_result"
    }
   ],
   "source": [
    "# hyper-Parameters Tuning\n",
    "'''\n",
    "treen_regressor_parameter = {'max_depth': [2,3,4,5,6,7,8,9,10]}\n",
    "tree_regressor_grid_search = GridSearchCV(DecisionTreeRegressor(), tree_regressor_parameter, cv = 2)\n",
    "tree_regressor_grid_search.fit(X, Y)\n",
    "print('The best score',tree_regressor_grid_search.best_score_)\n",
    "print('The best parameters',tree_regressor_grid_search.best_params_)\n",
    "'''"
   ]
  },
  {
   "cell_type": "markdown",
   "metadata": {},
   "source": [
    "# 8. Using SGD Regressor"
   ]
  },
  {
   "cell_type": "code",
   "execution_count": 48,
   "metadata": {},
   "outputs": [],
   "source": [
    "# This is an iterative model where you use multiple iteration to find \n",
    "# the best linear model that fit your underlyning data.\n",
    "\n",
    "# It works well with standarized features\n",
    "# I will standarize the all features except the categorical features\n",
    "features_not_categorical_columns = ['longitude','latitude','housing_median_age','total_rooms','total_bedrooms','population','households','median_income']\n",
    "features_not_categorical_train = x_train[features_not_categorical_columns]\n",
    "x_train_scaled = x_train.copy()\n",
    "scaler = StandardScaler()\n",
    "features_not_categorical_train_scaled = scaler.fit_transform(features_not_categorical_train)\n",
    "x_train_scaled[features_not_categorical_columns] = features_not_categorical_train_scaled\n",
    "\n",
    "sgd_regressor = SGDRegressor(max_iter = 100000, tol = 1e-3).fit(x_train_scaled, y_train)"
   ]
  },
  {
   "cell_type": "code",
   "execution_count": 49,
   "metadata": {},
   "outputs": [
    {
     "name": "stdout",
     "output_type": "stream",
     "text": [
      "Training score :  0.6469202186554899\n"
     ]
    }
   ],
   "source": [
    "print(\"Training score : \", sgd_regressor.score(x_train_scaled, y_train))\n",
    "# R-Square is a measure of how well our linear mogel captures the underlying variation in our training data"
   ]
  },
  {
   "cell_type": "code",
   "execution_count": 50,
   "metadata": {},
   "outputs": [
    {
     "name": "stdout",
     "output_type": "stream",
     "text": [
      "testing score :  0.6408341845617915\n"
     ]
    }
   ],
   "source": [
    "features_not_categorical_test = x_test[features_not_categorical_columns]\n",
    "x_test_scaled = x_test.copy()\n",
    "scaler = StandardScaler()\n",
    "features_not_categorical_test_scaled = scaler.fit_transform(features_not_categorical_test)\n",
    "x_test_scaled[features_not_categorical_columns] = features_not_categorical_test_scaled\n",
    "\n",
    "y_pred = sgd_regressor.predict(x_test_scaled)\n",
    "print(\"testing score : \", r2_score(y_test, y_pred))"
   ]
  },
  {
   "cell_type": "markdown",
   "metadata": {},
   "source": [
    "# 9. Using Neural Network"
   ]
  },
  {
   "cell_type": "code",
   "execution_count": 51,
   "metadata": {},
   "outputs": [
    {
     "name": "stderr",
     "output_type": "stream",
     "text": [
      "/opt/conda/lib/python3.6/site-packages/sklearn/neural_network/_multilayer_perceptron.py:470: ConvergenceWarning: lbfgs failed to converge (status=1):\n",
      "STOP: TOTAL NO. of f AND g EVALUATIONS EXCEEDS LIMIT.\n",
      "\n",
      "Increase the number of iterations (max_iter) or scale the data as shown in:\n",
      "    https://scikit-learn.org/stable/modules/preprocessing.html\n",
      "  self.n_iter_ = _check_optimize_result(\"lbfgs\", opt_res, self.max_iter)\n"
     ]
    }
   ],
   "source": [
    "# It do well with standarized features\n",
    "\n",
    "nn_regressor = MLPRegressor(activation = 'relu', hidden_layer_sizes = (32,64,128,64,8), solver= 'lbfgs', max_iter= 20000).fit(x_train_scaled, y_train)\n",
    "\n",
    "# 1- hidden_layer_sizes = (No. of units or neurons in 1st hidden layer, No. of units or neurons in 2nd hidden layer, .... )\n",
    "# 2- Activation function for the hidden layer: {‘identity’, ‘logistic’, ‘tanh’, ‘relu’}, default=’relu’  \n",
    "# 3- solver for weight optimization : {‘lbfgs’, ‘sgd’, ‘adam’}, default=’adam’\n",
    "# 4- learning_rate_initdouble, default=0.001, The initial learning rate used. \n",
    "# It controls the step-size in updating the weights. Only used when solver=’sgd’ or ‘adam’."
   ]
  },
  {
   "cell_type": "code",
   "execution_count": 52,
   "metadata": {},
   "outputs": [
    {
     "name": "stdout",
     "output_type": "stream",
     "text": [
      "Training score :  0.9448438019663009\n"
     ]
    }
   ],
   "source": [
    "print(\"Training score : \", nn_regressor.score(x_train_scaled, y_train))\n",
    "# R-Square is a measure of how well our linear mogel captures the underlying variation in our training data"
   ]
  },
  {
   "cell_type": "code",
   "execution_count": 53,
   "metadata": {},
   "outputs": [
    {
     "name": "stdout",
     "output_type": "stream",
     "text": [
      "testing score :  0.7245678508647493\n"
     ]
    }
   ],
   "source": [
    "y_pred = nn_regressor.predict(x_test_scaled)\n",
    "print(\"testing score : \", r2_score(y_test, y_pred))"
   ]
  }
 ],
 "metadata": {
  "kernelspec": {
   "display_name": "Python 3",
   "language": "python",
   "name": "python3"
  },
  "language_info": {
   "codemirror_mode": {
    "name": "ipython",
    "version": 3
   },
   "file_extension": ".py",
   "mimetype": "text/x-python",
   "name": "python",
   "nbconvert_exporter": "python",
   "pygments_lexer": "ipython3",
   "version": "3.6.6"
  }
 },
 "nbformat": 4,
 "nbformat_minor": 4
}
